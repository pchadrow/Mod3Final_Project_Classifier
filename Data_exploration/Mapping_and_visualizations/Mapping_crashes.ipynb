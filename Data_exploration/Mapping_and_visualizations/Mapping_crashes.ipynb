{
 "cells": [
  {
   "cell_type": "code",
   "execution_count": null,
   "metadata": {
    "ExecuteTime": {
     "end_time": "2020-07-09T22:19:44.521201Z",
     "start_time": "2020-07-09T22:19:42.883410Z"
    }
   },
   "outputs": [],
   "source": [
    "import folium\n",
    "from folium.plugins import MarkerCluster\n",
    "import pandas as pd\n",
    "import plotly.express as px\n",
    "import plotly.graph_objects as go"
   ]
  },
  {
   "cell_type": "markdown",
   "metadata": {},
   "source": [
    "### Let's see if we can identify any patterns or trends by mapping our crashes!\n",
    "To gain some further insight we will also take a look at posted speed limit where the crashes occur as well as the total amount of injuries as a result of crash."
   ]
  },
  {
   "cell_type": "code",
   "execution_count": null,
   "metadata": {
    "ExecuteTime": {
     "end_time": "2020-07-09T22:19:47.354849Z",
     "start_time": "2020-07-09T22:19:46.280513Z"
    }
   },
   "outputs": [],
   "source": [
    "filtered_crash = pd.read_csv('../Crash_Classification_Data.csv')"
   ]
  },
  {
   "cell_type": "code",
   "execution_count": null,
   "metadata": {
    "ExecuteTime": {
     "end_time": "2020-07-08T15:50:10.822713Z",
     "start_time": "2020-07-08T15:50:06.827930Z"
    }
   },
   "outputs": [],
   "source": [
    "px.set_mapbox_access_token(open(\".mapbox_token\").read())\n",
    "fig = px.scatter_mapbox(filtered_crash, lat=\"LATITUDE\", lon=\"LONGITUDE\", color=\"POSTED_SPEED_LIMIT\", size='INJURIES_TOTAL',\n",
    "                        color_continuous_scale='Inferno', size_max=20, zoom=10)\n",
    "fig.update_layout(title_text = 'Chicago Crash Locations - Filtered',\n",
    "                 autosize = True, height = 1200, width=980)\n",
    "fig.show()"
   ]
  },
  {
   "cell_type": "markdown",
   "metadata": {},
   "source": [
    "Here we can see that the brighter the point indicates a higher posted speed limit and the larger the point indicates more injuries."
   ]
  },
  {
   "cell_type": "markdown",
   "metadata": {},
   "source": [
    "### Let's turn this into an HTML file to make it easier to view!"
   ]
  },
  {
   "cell_type": "code",
   "execution_count": null,
   "metadata": {
    "ExecuteTime": {
     "end_time": "2020-07-08T15:50:11.559272Z",
     "start_time": "2020-07-08T15:50:10.824200Z"
    }
   },
   "outputs": [],
   "source": [
    "fig.write_html('Chicago_Crash_Map.html')"
   ]
  },
  {
   "cell_type": "code",
   "execution_count": null,
   "metadata": {
    "ExecuteTime": {
     "end_time": "2020-07-08T15:50:16.301527Z",
     "start_time": "2020-07-08T15:50:11.560761Z"
    }
   },
   "outputs": [],
   "source": [
    "px.set_mapbox_access_token(open(\".mapbox_token\").read())\n",
    "fig = px.scatter_mapbox(filtered_crash, lat=\"LATITUDE\", lon=\"LONGITUDE\", size=\"INJURIES_FATAL\", color='INJURIES_TOTAL',\n",
    "                        color_continuous_scale='Inferno', size_max=20, zoom=10)\n",
    "fig.update_layout(title_text = 'Chicago Crash Locations - Injuries',\n",
    "                 autosize = True, height = 1200, width=980)\n",
    "fig.show()"
   ]
  },
  {
   "cell_type": "code",
   "execution_count": null,
   "metadata": {
    "ExecuteTime": {
     "end_time": "2020-07-09T22:20:28.056600Z",
     "start_time": "2020-07-09T22:20:24.092073Z"
    }
   },
   "outputs": [],
   "source": [
    "px.set_mapbox_access_token(open(\".mapbox_token\").read())\n",
    "fig = px.scatter_mapbox(filtered_crash, lat=\"LATITUDE\", lon=\"LONGITUDE\", color=\"CRASH_HOUR\", size='INJURIES_TOTAL',\n",
    "                        color_continuous_scale='icefire', size_max=20, zoom=10)\n",
    "fig.update_layout(title_text = 'Chicago Crash Locations - Time of Day',\n",
    "                 autosize = True, height = 1200, width=980)\n",
    "fig.show()"
   ]
  },
  {
   "cell_type": "code",
   "execution_count": null,
   "metadata": {
    "ExecuteTime": {
     "end_time": "2020-07-09T22:20:28.873512Z",
     "start_time": "2020-07-09T22:20:28.058088Z"
    }
   },
   "outputs": [],
   "source": [
    "fig.write_html('Chicago_Crash_Time_Map.html')"
   ]
  },
  {
   "cell_type": "code",
   "execution_count": null,
   "metadata": {
    "ExecuteTime": {
     "end_time": "2020-07-09T22:21:34.561754Z",
     "start_time": "2020-07-09T22:21:31.102155Z"
    }
   },
   "outputs": [],
   "source": [
    "px.set_mapbox_access_token(open(\".mapbox_token\").read())\n",
    "fig = px.scatter_mapbox(filtered_crash, lat=\"LATITUDE\", lon=\"LONGITUDE\", color=\"CRASH_MONTH\", size='INJURIES_TOTAL',\n",
    "                        color_continuous_scale='icefire', size_max=20, zoom=10)\n",
    "fig.update_layout(title_text = 'Chicago Crash Locations - Time of Year',\n",
    "                 autosize = True, height = 1200, width=980)\n",
    "fig.show()"
   ]
  },
  {
   "cell_type": "code",
   "execution_count": null,
   "metadata": {
    "ExecuteTime": {
     "end_time": "2020-07-09T22:22:01.158756Z",
     "start_time": "2020-07-09T22:22:00.422712Z"
    }
   },
   "outputs": [],
   "source": [
    "fig.write_html('Chicago_Crash_Time_of_Year_Map.html')"
   ]
  },
  {
   "cell_type": "code",
   "execution_count": null,
   "metadata": {
    "ExecuteTime": {
     "end_time": "2020-07-09T22:22:49.031674Z",
     "start_time": "2020-07-09T22:22:45.652922Z"
    }
   },
   "outputs": [],
   "source": [
    "px.set_mapbox_access_token(open(\".mapbox_token\").read())\n",
    "fig = px.scatter_mapbox(filtered_crash, lat=\"LATITUDE\", lon=\"LONGITUDE\", color=\"CRASH_DAY_OF_WEEK\", size='INJURIES_TOTAL',\n",
    "                        color_continuous_scale='Inferno', size_max=20, zoom=10)\n",
    "fig.update_layout(title_text = 'Chicago Crash Locations - Day of Week',\n",
    "                 autosize = True, height = 1200, width=980)\n",
    "fig.show()"
   ]
  },
  {
   "cell_type": "code",
   "execution_count": null,
   "metadata": {
    "ExecuteTime": {
     "end_time": "2020-07-09T22:22:56.436952Z",
     "start_time": "2020-07-09T22:22:55.437017Z"
    }
   },
   "outputs": [],
   "source": [
    "fig.write_html('Chicago_Crash_Day_of_Week_Map.html')"
   ]
  },
  {
   "cell_type": "code",
   "execution_count": null,
   "metadata": {},
   "outputs": [],
   "source": []
  }
 ],
 "metadata": {
  "kernelspec": {
   "display_name": "Python [conda env:learn-env] *",
   "language": "python",
   "name": "conda-env-learn-env-py"
  },
  "language_info": {
   "codemirror_mode": {
    "name": "ipython",
    "version": 3
   },
   "file_extension": ".py",
   "mimetype": "text/x-python",
   "name": "python",
   "nbconvert_exporter": "python",
   "pygments_lexer": "ipython3",
   "version": "3.6.9"
  }
 },
 "nbformat": 4,
 "nbformat_minor": 2
}
